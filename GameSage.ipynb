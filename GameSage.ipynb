{
 "cells": [
  {
   "cell_type": "markdown",
   "id": "f36cacca-0710-4fe6-b27c-24f2c7f87cac",
   "metadata": {},
   "source": [
    "Trabajo Final: GameSage\n",
    "Resumen\n",
    "GameSage es una aplicación basada en inteligencia artificial diseñada para resolver problemas en videojuegos. Ofrece soluciones personalizadas, como estrategias detalladas, mejores builds para personajes y ubicaciones de objetos clave, adaptándose dinámicamente a las necesidades específicas de cada jugador y juego.\n",
    "\n",
    "Índice\n",
    "1. Introducción\n",
    "2. Objetivos\n",
    "3. Metodología\n",
    "4. Herramientas y Tecnologías\n",
    "5. Implementación\n",
    "6. Resultados\n",
    "7. Conclusiones\n",
    "\n",
    "1. Introducción\n",
    "GameSage utiliza inteligencia artificial para ayudar a los jugadores a resolver problemas en videojuegos, ofreciendo estrategias, builds personalizadas y ubicaciones clave, adaptándose a cualquier título y necesidad específica del usuario.\n",
    "\n",
    "2. Objetivos\n",
    "GameSage busca proveer soluciones personalizadas para jugadores, optimizar estrategias, encontrar objetos y recomendar builds, todo adaptado a diferentes videojuegos y problemas específicos.\n",
    "\n",
    "3. Metodología\n",
    "    1. Desarrollo Ágil: Implementamos iteraciones rápidas para ajustar y mejorar las funcionalidades conforme avanzamos, asegurando que la aplicación          se adapte a las necesidades de los usuarios.\n",
    "    2. Enfoque basado en IA: Utilizamos modelos de lenguaje de OpenAI para generar respuestas personalizadas, mejorando continuamente a medida que             obtenemos más datos sobre las necesidades del usuario.\n",
    "    3. Prototipado rápido: A través de Jupyter Notebooks, construimos prototipos interactivos para probar y ajustar ideas rápidamente antes de la              implementación final.\n",
    "    4. Iteración y retroalimentación: Recibimos retroalimentación constante de los usuarios para mejorar la precisión y relevancia de las respuestas           generadas por la IA.\n",
    "\n",
    "4. Herramientas y Tecnologías\n",
    "OpenAI: Para generar respuestas personalizadas usando modelos de lenguaje avanzado.\n",
    "Python: Para el desarrollo de la lógica y la integración con la API de OpenAI.\n",
    "Jupyter Notebook: Para el desarrollo interactivo y la experimentación del proyecto."
   ]
  },
  {
   "cell_type": "code",
   "execution_count": 21,
   "id": "a333d558-4f78-4245-894b-0ff9119a80dd",
   "metadata": {},
   "outputs": [],
   "source": [
    "import openai\n",
    "\n",
    "# Configuración del modelo OpenAI\n",
    "openai.api_key = \"\""
   ]
  },
  {
   "cell_type": "code",
   "execution_count": 22,
   "id": "14ba2cdf-459e-4e1b-b1f8-d2e67ee2085d",
   "metadata": {},
   "outputs": [],
   "source": [
    "def query_gpt(prompt, max_tokens=200):\n",
    "    \"\"\"\n",
    "    Envía un prompt dinámico a la API de OpenAI y devuelve la respuesta.\n",
    "    \"\"\"\n",
    "    try:\n",
    "        response = openai.ChatCompletion.create(\n",
    "            model=\"gpt-3.5-turbo\",\n",
    "            messages=[\n",
    "                {\"role\": \"system\", \"content\": \"Eres un asistente experto en videojuegos.\"},\n",
    "                {\"role\": \"user\", \"content\": prompt}\n",
    "            ],\n",
    "            max_tokens=max_tokens\n",
    "        )\n",
    "        return response['choices'][0]['message']['content']\n",
    "    except Exception as e:\n",
    "        return f\"Error al procesar la solicitud: {e}\"\n",
    "\n"
   ]
  },
  {
   "cell_type": "code",
   "execution_count": 23,
   "id": "ed254141-7d1d-4ad1-bd39-1d7bdbc37716",
   "metadata": {},
   "outputs": [],
   "source": [
    "def generar_prompt(juego, tipo_problema, problema_especifico):\n",
    "    \"\"\"\n",
    "    Genera un prompt dinámico basado en los datos ingresados por el usuario.\n",
    "    \"\"\"\n",
    "    return (\n",
    "        f\"Estoy jugando {juego}. Necesito ayuda con {tipo_problema}. \"\n",
    "        f\"Mi problema específico es: {problema_especifico}. Por favor, dame una respuesta útil y detallada.\"\n",
    "    )\n",
    "\n"
   ]
  },
  {
   "cell_type": "code",
   "execution_count": 24,
   "id": "280d3633-09c3-42b8-8395-44810f8ba112",
   "metadata": {},
   "outputs": [
    {
     "name": "stdout",
     "output_type": "stream",
     "text": [
      "¡Bienvenido a GameSage!\n"
     ]
    },
    {
     "name": "stdout",
     "output_type": "stream",
     "text": [
      "¿En qué juego necesitas ayuda?  elden ring\n",
      "¿Qué tipo de problema necesitas resolver (por ejemplo: búsqueda de objetos, estrategias, builds, etc.)?  estrategias\n",
      "Describe tu problema específico:  vencer a melania\n"
     ]
    }
   ],
   "source": [
    "# Bienvenida e inputs del usuario\n",
    "print(\"¡Bienvenido a GameSage!\")\n",
    "juego = input(\"¿En qué juego necesitas ayuda? \")\n",
    "tipo_problema = input(\"¿Qué tipo de problema necesitas resolver (por ejemplo: búsqueda de objetos, estrategias, builds, etc.)? \")\n",
    "problema_especifico = input(\"Describe tu problema específico: \")\n",
    "\n",
    "# Generar el prompt\n",
    "prompt = generar_prompt(juego, tipo_problema, problema_especifico)\n"
   ]
  },
  {
   "cell_type": "code",
   "execution_count": 25,
   "id": "5f198066-6e81-45b6-926e-6609300344b0",
   "metadata": {},
   "outputs": [
    {
     "name": "stdout",
     "output_type": "stream",
     "text": [
      "\n",
      "Respuesta de GameSage:\n",
      "Error al procesar la solicitud: You exceeded your current quota, please check your plan and billing details. For more information on this error, read the docs: https://platform.openai.com/docs/guides/error-codes/api-errors.\n"
     ]
    }
   ],
   "source": [
    "# Consultar a GPT y mostrar la respuesta\n",
    "respuesta = query_gpt(prompt)\n",
    "\n",
    "print(\"\\nRespuesta de GameSage:\")\n",
    "print(respuesta)\n"
   ]
  },
  {
   "cell_type": "markdown",
   "id": "92cc4201-f063-46fb-b583-0af23547281d",
   "metadata": {},
   "source": [
    "6. Resultados\n",
    "Lamentablemente no he podido comprobar ni desde Jupyter Notebook ni desde VSC, ya que con multiples APIs generadas de multiples cuentas, la unica respuesta que obtenia es \"Error al procesar la solicitud: You exceeded your current quota, please check your plan and billing details. For more information on this error, read the docs: https://platform.openai.com/docs/guides/error-codes/api-errors.\". Al copiar el codigo en ChatGPT pude comprobar que el codigo andaba, pero debido a este error, no pude comprobarlo directamente en Jupyter Notebook.\n",
    "\n",
    "7. Conclusiones\n",
    "Fuera de las dificultades generadas por la API key, GameSage ha demostrado ser una herramienta efectiva para asistir a jugadores con soluciones personalizadas en videojuegos, proporcionando estrategias, builds y ubicaciones de objetos. Utilizando inteligencia artificial, la aplicación adapta las respuestas según el juego y el problema del usuario. Los resultados indican que la IA puede mejorar significativamente la experiencia de los jugadores, ofreciendo respuestas rápidas y precisas."
   ]
  }
 ],
 "metadata": {
  "kernelspec": {
   "display_name": "Python 3 (ipykernel)",
   "language": "python",
   "name": "python3"
  },
  "language_info": {
   "codemirror_mode": {
    "name": "ipython",
    "version": 3
   },
   "file_extension": ".py",
   "mimetype": "text/x-python",
   "name": "python",
   "nbconvert_exporter": "python",
   "pygments_lexer": "ipython3",
   "version": "3.12.7"
  }
 },
 "nbformat": 4,
 "nbformat_minor": 5
}
